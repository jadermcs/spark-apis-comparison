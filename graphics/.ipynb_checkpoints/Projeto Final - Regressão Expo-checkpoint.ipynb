{
 "cells": [
  {
   "cell_type": "markdown",
   "metadata": {},
   "source": [
    "# Computação Experimental - 2/2-17"
   ]
  },
  {
   "cell_type": "code",
   "execution_count": 1,
   "metadata": {},
   "outputs": [],
   "source": [
    "import numpy as np\n",
    "import matplotlib.pyplot as plt"
   ]
  },
  {
   "cell_type": "code",
   "execution_count": 4,
   "metadata": {},
   "outputs": [],
   "source": [
    "yH = dataMCRHugo[:,0]\n",
    "xH = dataMCRHugo[:,1]\n",
    "yJ = dataMCRJader[:,0]\n",
    "xJ = dataMCRJader[:,1]"
   ]
  },
  {
   "cell_type": "code",
   "execution_count": 5,
   "metadata": {},
   "outputs": [
    {
     "data": {
      "text/plain": [
       "[<matplotlib.lines.Line2D at 0x11659ac50>]"
      ]
     },
     "execution_count": 5,
     "metadata": {},
     "output_type": "execute_result"
    }
   ],
   "source": [
    "plt.plot(np.log(xH), yH, 'k.')\n",
    "plt.plot(np.log(xJ), yJ, 'r.')"
   ]
  },
  {
   "cell_type": "markdown",
   "metadata": {},
   "source": [
    "**Calcular o número de repetições de experimentos necessários para se obter uma acurácia de 5% e um nível de confiança de 95% baseado nos dados**"
   ]
  },
  {
   "cell_type": "code",
   "execution_count": 63,
   "metadata": {},
   "outputs": [
    {
     "name": "stdout",
     "output_type": "stream",
     "text": [
      "Número de Repetições:  1389.9097698149344\n"
     ]
    }
   ],
   "source": [
    "numero_repeticoes = pow((100*1.960*desvio_padrao)/(5*media), 2)\n",
    "print('Número de Repetições: ', numero_repeticoes)"
   ]
  },
  {
   "cell_type": "markdown",
   "metadata": {},
   "source": [
    "**Amostra 1: Gerar um subconjunto aleatório com 20 elementos e encontre os intervalos de confiança com 90% e 95% de confiança.**"
   ]
  },
  {
   "cell_type": "code",
   "execution_count": 81,
   "metadata": {},
   "outputs": [
    {
     "data": {
      "text/plain": [
       "51    0.00000\n",
       "62    2.20963\n",
       "12    3.52276\n",
       "65    0.08871\n",
       "88    0.89095\n",
       "93    0.28627\n",
       "63    1.69425\n",
       "45    0.84948\n",
       "30    0.59197\n",
       "90    0.40707\n",
       "69    3.75339\n",
       "85    2.11834\n",
       "42    2.07974\n",
       "7     4.10093\n",
       "83    0.02837\n",
       "18    0.53913\n",
       "33    1.58264\n",
       "23    1.70608\n",
       "99    1.11731\n",
       "19    1.23483\n",
       "Name: 0, dtype: float64"
      ]
     },
     "execution_count": 81,
     "metadata": {},
     "output_type": "execute_result"
    }
   ],
   "source": [
    "amostra1 = dataset[0].sample(n=20)\n",
    "amostra1"
   ]
  },
  {
   "cell_type": "code",
   "execution_count": 82,
   "metadata": {},
   "outputs": [
    {
     "name": "stdout",
     "output_type": "stream",
     "text": [
      "Amostra 1 - Intervalo de confiança da média:\n",
      "Para 90%:  (1.4400925, 0.96237151643001928, 1.9178134835699807)\n",
      "Para 95%:  (1.4400925, 0.86183644977341012, 2.0183485502265901)\n"
     ]
    }
   ],
   "source": [
    "def intervalo_confianca_media(data, confidence):\n",
    "    a = 1.0*np.array(data)\n",
    "    n = len(a)\n",
    "    m = np.mean(a)\n",
    "    se = scipy.stats.sem(a)\n",
    "    h = se * sp.stats.t._ppf((1+confidence)/2., n-1)\n",
    "    return m, m-h, m+h\n",
    "\n",
    "print('Amostra 1 - Intervalo de confiança da média:')\n",
    "print('Para 90%: ', intervalo_confianca_media(amostra1, 0.9))\n",
    "print('Para 95%: ', intervalo_confianca_media(amostra1, 0.95))"
   ]
  },
  {
   "cell_type": "markdown",
   "metadata": {},
   "source": [
    "**A média da população esta nos intervalos da amostra?**"
   ]
  },
  {
   "cell_type": "markdown",
   "metadata": {},
   "source": [
    "**Amostra 2: Gerar um subconjunto aleatório com 10 elementos e encontre os intervalos de confiança com 90% e 95% de confiança.**"
   ]
  },
  {
   "cell_type": "code",
   "execution_count": 83,
   "metadata": {},
   "outputs": [
    {
     "data": {
      "text/plain": [
       "87    0.67558\n",
       "68    0.20983\n",
       "50    0.80737\n",
       "48    0.28590\n",
       "32    2.79815\n",
       "69    3.75339\n",
       "91    1.34583\n",
       "98    3.28497\n",
       "64    0.99793\n",
       "94    0.61723\n",
       "Name: 0, dtype: float64"
      ]
     },
     "execution_count": 83,
     "metadata": {},
     "output_type": "execute_result"
    }
   ],
   "source": [
    "amostra2 = dataset[0].sample(n=10)\n",
    "amostra2"
   ]
  },
  {
   "cell_type": "code",
   "execution_count": 84,
   "metadata": {},
   "outputs": [
    {
     "name": "stdout",
     "output_type": "stream",
     "text": [
      "Amostra 2 - Intervalo de confiança da média:\n",
      "Para 90%:  (1.4776180000000001, 0.72187593285847451, 2.2333600671415255)\n",
      "Para 95%:  (1.4776180000000001, 0.54499279185527327, 2.4102432081447267)\n"
     ]
    }
   ],
   "source": [
    "print('Amostra 2 - Intervalo de confiança da média:')\n",
    "print('Para 90%: ', intervalo_confianca_media(amostra2, 0.9))\n",
    "print('Para 95%: ', intervalo_confianca_media(amostra2, 0.95))"
   ]
  },
  {
   "cell_type": "code",
   "execution_count": null,
   "metadata": {
    "collapsed": true
   },
   "outputs": [],
   "source": []
  }
 ],
 "metadata": {
  "anaconda-cloud": {},
  "kernelspec": {
   "display_name": "Python [conda root]",
   "language": "python",
   "name": "conda-root-py"
  },
  "language_info": {
   "codemirror_mode": {
    "name": "ipython",
    "version": 3
   },
   "file_extension": ".py",
   "mimetype": "text/x-python",
   "name": "python",
   "nbconvert_exporter": "python",
   "pygments_lexer": "ipython3",
   "version": "3.5.4"
  }
 },
 "nbformat": 4,
 "nbformat_minor": 2
}
